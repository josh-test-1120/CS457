{
 "cells": [
  {
   "cell_type": "markdown",
   "metadata": {},
   "source": [
    "# Exercises with Python"
   ]
  },
  {
   "cell_type": "code",
   "execution_count": 4,
   "metadata": {},
   "outputs": [],
   "source": [
    "import numpy as np\n",
    "import matplotlib.pyplot as plt\n",
    "import pandas as pd"
   ]
  },
  {
   "cell_type": "markdown",
   "metadata": {},
   "source": [
    "## Exercise 1 - Numpy\n",
    "#### Creat an array of 450 random integers between -10 and 10"
   ]
  },
  {
   "cell_type": "code",
   "execution_count": 5,
   "metadata": {},
   "outputs": [
    {
     "name": "stdout",
     "output_type": "stream",
     "text": [
      "This is the length: 450\n"
     ]
    },
    {
     "data": {
      "text/plain": [
       "array([  1,   6,   9,  -9,  -9,   0,   4,  -8,   1,   0,  -8,   9,   5,\n",
       "       -10,  -3,   0,  -4,  -9,  -2,   3,   5, -10,   6,  -1,  -7,   3,\n",
       "         3,   2,  -3,   5, -10,  -4,   8,   7,  -3,  -5,  -6,  -8,   0,\n",
       "         6,  -3,   4,   8,  -1,   4,  -2,   4,   6,  -7,   8,  -2,  -1,\n",
       "        -5,  -6,   5,  -4,  -2,  -8,   4,  -1,  -6,   4,   0,   0,   8,\n",
       "        -5,  -1,  -3,   0,  -3,  -4,   2,  -4,   3,  -9,   3,   0,   5,\n",
       "        -1,   8,  -7,   8,  -5,   5,  -7,   9,  -7,  -1,  -4,  -3,  -1,\n",
       "        -6,   3,   1,  -5,  -8,   0,   7,   9,  -3,  -6, -10,   0,   2,\n",
       "         6,  -9,   4,   4,   0,   6,  -3,  -2,   7,   8,   0,   9,  -5,\n",
       "        -2,   6,   5,  -7,   5,  -1,   0,  -3,   7, -10,   7,  -8,   0,\n",
       "         2,   8,   6,   3,   0,  -3,   3,   7,  -7,   6,  -5, -10,  -2,\n",
       "        -1,  -1,  -6,  -5,  -2,  -6,   5, -10,  -1,  -8,   1,  -3,  -5,\n",
       "        -1,   1,   1,   8,   9,  -1,  -5,   4,  -7,   8,  -6,   6,   8,\n",
       "        -2,   8,  -5,  -7,   6,   9,   5,  -4,   7,  -8,  -1,  -8,   1,\n",
       "         5,  -5,   0,  -5,   7,  -1,  -3,  -9, -10,  -4,   7,   1,   1,\n",
       "         3,   7,  -6,   5,   5,   5,   6,  -4,  -5,   4,  -9,  -3,  -4,\n",
       "         6,  -3,  -4,  -2,   5,   1,  -2,  -7,  -2,   0,  -7,  -2,   8,\n",
       "        -2,   0,   2,  -4,  -4,   9, -10,  -3,   2,  -5,  -6,  -1,   8,\n",
       "         8,   5,  -2,   4,  -3, -10,  -8,  -5,  -9,   1,   1,   2,   1,\n",
       "        -2,  -5,  -7, -10,  -7, -10,   0,  -4,   9,   8,  -9,   0,  -1,\n",
       "        -4, -10,  -7,   9,   8,   0,  -7,   2,   1,  -5,   4,   9,  -2,\n",
       "         0,  -8,  -7,   0,  -3,  -6,   0,  -8,   3,  -6,  -5,  -5,   5,\n",
       "         3,   8,   2,  -2,   7,  -5,   1,  -7,  -4,  -4,   5,   6,   9,\n",
       "         7,   2,   6,   4,   0,   8,  -1,  -3,  -1,  -1,  -6,  -1,   6,\n",
       "         5,  -3,   3,  -2,   3,  -1,   4,   9,  -9, -10,   1,   7,   0,\n",
       "       -10,  -9,   1,   0,   1,  -3,   6,  -2, -10,  -2,   6,   1,  -7,\n",
       "         3,  -8,  -8,   7,   7,   5,  -3,  -3,   3,  -1,  -6,  -6,  -4,\n",
       "        -6,   2,   5,  -5,   0,   0,   2, -10,   4,   3,  -5,   9,   5,\n",
       "        -2,  -1,   1,   7,  -5, -10,  -7,   5,  -4,   3,   0, -10,  -8,\n",
       "         6,  -7,   3, -10,   9,   8,  -2,   0,   3,   0,  -3,   0,  -5,\n",
       "         6,  -3,  -7,  -4,   6,   5,   1,   4,   4,  -6,  -6,   5,   2,\n",
       "         8,   8,  -7,   0,  -4,   0,   8,   2,  -2,  -9,  -6,  -3, -10,\n",
       "         7,   1,   9,  -9,   7,   3,   5,   9,   1,  -9,  -3,   3,  -1,\n",
       "        -2,  -5,   4,  -1,  -8,   8,   2,   7,   1,  -2,   8,   9,  -7,\n",
       "         4,  -5,  -7,  -8,   7,   9,   1,   9])"
      ]
     },
     "execution_count": 5,
     "metadata": {},
     "output_type": "execute_result"
    }
   ],
   "source": [
    "# Your code: \n",
    "# Create a numpy array of random integers between -10 and 10 with a legth of 450\n",
    "array = np.random.randint(-10,10,450)\n",
    "\n",
    "print(f'This is the length: {len(array)}')\n",
    "array"
   ]
  },
  {
   "cell_type": "markdown",
   "metadata": {},
   "source": [
    "#### Resize the above array as a 5x70 matrix. \n",
    "#### Is there a problem? \n",
    "\n",
    "#### If there is, correct it to a suitable shape.\n",
    "\n",
    "We check what dimension our array has:"
   ]
  },
  {
   "cell_type": "code",
   "execution_count": 6,
   "metadata": {},
   "outputs": [
    {
     "name": "stdout",
     "output_type": "stream",
     "text": [
      "(450,)\n",
      "This is the row length: 70\n",
      "This is the row length: 70\n",
      "This is the row length: 70\n",
      "This is the row length: 70\n",
      "This is the row length: 70\n",
      "This is the new matrix length: 350\n"
     ]
    },
    {
     "data": {
      "text/plain": [
       "array([[  1,   6,   9,  -9,  -9,   0,   4,  -8,   1,   0,  -8,   9,   5,\n",
       "        -10,  -3,   0,  -4,  -9,  -2,   3,   5, -10,   6,  -1,  -7,   3,\n",
       "          3,   2,  -3,   5, -10,  -4,   8,   7,  -3,  -5,  -6,  -8,   0,\n",
       "          6,  -3,   4,   8,  -1,   4,  -2,   4,   6,  -7,   8,  -2,  -1,\n",
       "         -5,  -6,   5,  -4,  -2,  -8,   4,  -1,  -6,   4,   0,   0,   8,\n",
       "         -5,  -1,  -3,   0,  -3],\n",
       "       [ -4,   2,  -4,   3,  -9,   3,   0,   5,  -1,   8,  -7,   8,  -5,\n",
       "          5,  -7,   9,  -7,  -1,  -4,  -3,  -1,  -6,   3,   1,  -5,  -8,\n",
       "          0,   7,   9,  -3,  -6, -10,   0,   2,   6,  -9,   4,   4,   0,\n",
       "          6,  -3,  -2,   7,   8,   0,   9,  -5,  -2,   6,   5,  -7,   5,\n",
       "         -1,   0,  -3,   7, -10,   7,  -8,   0,   2,   8,   6,   3,   0,\n",
       "         -3,   3,   7,  -7,   6],\n",
       "       [ -5, -10,  -2,  -1,  -1,  -6,  -5,  -2,  -6,   5, -10,  -1,  -8,\n",
       "          1,  -3,  -5,  -1,   1,   1,   8,   9,  -1,  -5,   4,  -7,   8,\n",
       "         -6,   6,   8,  -2,   8,  -5,  -7,   6,   9,   5,  -4,   7,  -8,\n",
       "         -1,  -8,   1,   5,  -5,   0,  -5,   7,  -1,  -3,  -9, -10,  -4,\n",
       "          7,   1,   1,   3,   7,  -6,   5,   5,   5,   6,  -4,  -5,   4,\n",
       "         -9,  -3,  -4,   6,  -3],\n",
       "       [ -4,  -2,   5,   1,  -2,  -7,  -2,   0,  -7,  -2,   8,  -2,   0,\n",
       "          2,  -4,  -4,   9, -10,  -3,   2,  -5,  -6,  -1,   8,   8,   5,\n",
       "         -2,   4,  -3, -10,  -8,  -5,  -9,   1,   1,   2,   1,  -2,  -5,\n",
       "         -7, -10,  -7, -10,   0,  -4,   9,   8,  -9,   0,  -1,  -4, -10,\n",
       "         -7,   9,   8,   0,  -7,   2,   1,  -5,   4,   9,  -2,   0,  -8,\n",
       "         -7,   0,  -3,  -6,   0],\n",
       "       [ -8,   3,  -6,  -5,  -5,   5,   3,   8,   2,  -2,   7,  -5,   1,\n",
       "         -7,  -4,  -4,   5,   6,   9,   7,   2,   6,   4,   0,   8,  -1,\n",
       "         -3,  -1,  -1,  -6,  -1,   6,   5,  -3,   3,  -2,   3,  -1,   4,\n",
       "          9,  -9, -10,   1,   7,   0, -10,  -9,   1,   0,   1,  -3,   6,\n",
       "         -2, -10,  -2,   6,   1,  -7,   3,  -8,  -8,   7,   7,   5,  -3,\n",
       "         -3,   3,  -1,  -6,  -6]])"
      ]
     },
     "execution_count": 6,
     "metadata": {},
     "output_type": "execute_result"
    }
   ],
   "source": [
    "# Your code:\n",
    "# Output the shape of the array\n",
    "print(array.shape)\n",
    "\n",
    "# Resize the array to the new dimensions of 5x70\n",
    "new_matrix = np.resize(array,(5,70))\n",
    "\n",
    "# Calculate the elements in the array\n",
    "new_total = 0\n",
    "for row in new_matrix:\n",
    "    print(f'This is the row length: {len(row)}')\n",
    "    new_total += len(row)\n",
    "print(f'This is the new matrix length: {new_total}')\n",
    "new_matrix\n",
    "\n",
    "# Is there a problem? why?\n",
    "#Please add your idea\n",
    "# This is a problem because we wanted to resize the matrix to have\n",
    "# 5 rows, with 70 columns. This only gives us 350 elements, which is 100\n",
    "# less than we started with (450)\n",
    "\n"
   ]
  },
  {
   "cell_type": "code",
   "execution_count": 7,
   "metadata": {},
   "outputs": [
    {
     "data": {
      "text/plain": [
       "(450,)"
      ]
     },
     "execution_count": 7,
     "metadata": {},
     "output_type": "execute_result"
    }
   ],
   "source": [
    "array.shape"
   ]
  },
  {
   "cell_type": "markdown",
   "metadata": {},
   "source": [
    "We resize:"
   ]
  },
  {
   "cell_type": "code",
   "execution_count": 8,
   "metadata": {},
   "outputs": [
    {
     "name": "stdout",
     "output_type": "stream",
     "text": [
      "This is the row length: 75\n",
      "This is the row length: 75\n",
      "This is the row length: 75\n",
      "This is the row length: 75\n",
      "This is the row length: 75\n",
      "This is the row length: 75\n",
      "This is the new matrix length: 450\n"
     ]
    },
    {
     "data": {
      "text/plain": [
       "array([[  1,   6,   9,  -9,  -9,   0,   4,  -8,   1,   0,  -8,   9,   5,\n",
       "        -10,  -3,   0,  -4,  -9,  -2,   3,   5, -10,   6,  -1,  -7,   3,\n",
       "          3,   2,  -3,   5, -10,  -4,   8,   7,  -3,  -5,  -6,  -8,   0,\n",
       "          6,  -3,   4,   8,  -1,   4,  -2,   4,   6,  -7,   8,  -2,  -1,\n",
       "         -5,  -6,   5,  -4,  -2,  -8,   4,  -1,  -6,   4,   0,   0,   8,\n",
       "         -5,  -1,  -3,   0,  -3,  -4,   2,  -4,   3,  -9],\n",
       "       [  3,   0,   5,  -1,   8,  -7,   8,  -5,   5,  -7,   9,  -7,  -1,\n",
       "         -4,  -3,  -1,  -6,   3,   1,  -5,  -8,   0,   7,   9,  -3,  -6,\n",
       "        -10,   0,   2,   6,  -9,   4,   4,   0,   6,  -3,  -2,   7,   8,\n",
       "          0,   9,  -5,  -2,   6,   5,  -7,   5,  -1,   0,  -3,   7, -10,\n",
       "          7,  -8,   0,   2,   8,   6,   3,   0,  -3,   3,   7,  -7,   6,\n",
       "         -5, -10,  -2,  -1,  -1,  -6,  -5,  -2,  -6,   5],\n",
       "       [-10,  -1,  -8,   1,  -3,  -5,  -1,   1,   1,   8,   9,  -1,  -5,\n",
       "          4,  -7,   8,  -6,   6,   8,  -2,   8,  -5,  -7,   6,   9,   5,\n",
       "         -4,   7,  -8,  -1,  -8,   1,   5,  -5,   0,  -5,   7,  -1,  -3,\n",
       "         -9, -10,  -4,   7,   1,   1,   3,   7,  -6,   5,   5,   5,   6,\n",
       "         -4,  -5,   4,  -9,  -3,  -4,   6,  -3,  -4,  -2,   5,   1,  -2,\n",
       "         -7,  -2,   0,  -7,  -2,   8,  -2,   0,   2,  -4],\n",
       "       [ -4,   9, -10,  -3,   2,  -5,  -6,  -1,   8,   8,   5,  -2,   4,\n",
       "         -3, -10,  -8,  -5,  -9,   1,   1,   2,   1,  -2,  -5,  -7, -10,\n",
       "         -7, -10,   0,  -4,   9,   8,  -9,   0,  -1,  -4, -10,  -7,   9,\n",
       "          8,   0,  -7,   2,   1,  -5,   4,   9,  -2,   0,  -8,  -7,   0,\n",
       "         -3,  -6,   0,  -8,   3,  -6,  -5,  -5,   5,   3,   8,   2,  -2,\n",
       "          7,  -5,   1,  -7,  -4,  -4,   5,   6,   9,   7],\n",
       "       [  2,   6,   4,   0,   8,  -1,  -3,  -1,  -1,  -6,  -1,   6,   5,\n",
       "         -3,   3,  -2,   3,  -1,   4,   9,  -9, -10,   1,   7,   0, -10,\n",
       "         -9,   1,   0,   1,  -3,   6,  -2, -10,  -2,   6,   1,  -7,   3,\n",
       "         -8,  -8,   7,   7,   5,  -3,  -3,   3,  -1,  -6,  -6,  -4,  -6,\n",
       "          2,   5,  -5,   0,   0,   2, -10,   4,   3,  -5,   9,   5,  -2,\n",
       "         -1,   1,   7,  -5, -10,  -7,   5,  -4,   3,   0],\n",
       "       [-10,  -8,   6,  -7,   3, -10,   9,   8,  -2,   0,   3,   0,  -3,\n",
       "          0,  -5,   6,  -3,  -7,  -4,   6,   5,   1,   4,   4,  -6,  -6,\n",
       "          5,   2,   8,   8,  -7,   0,  -4,   0,   8,   2,  -2,  -9,  -6,\n",
       "         -3, -10,   7,   1,   9,  -9,   7,   3,   5,   9,   1,  -9,  -3,\n",
       "          3,  -1,  -2,  -5,   4,  -1,  -8,   8,   2,   7,   1,  -2,   8,\n",
       "          9,  -7,   4,  -5,  -7,  -8,   7,   9,   1,   9]])"
      ]
     },
     "execution_count": 8,
     "metadata": {},
     "output_type": "execute_result"
    }
   ],
   "source": [
    "# Resize the matrix to 6x75\n",
    "corrected_matrix = np.resize(array,(6,75))\n",
    "# Calculate the elements in the array\n",
    "new_total = 0\n",
    "for row in corrected_matrix:\n",
    "    print(f'This is the row length: {len(row)}')\n",
    "    new_total += len(row)\n",
    "print(f'This is the new matrix length: {new_total}')\n",
    "corrected_matrix\n"
   ]
  },
  {
   "cell_type": "markdown",
   "metadata": {},
   "source": [
    "#### Choose values greater than 0 from your corrected_matrix."
   ]
  },
  {
   "cell_type": "code",
   "execution_count": 123,
   "metadata": {},
   "outputs": [
    {
     "name": "stdout",
     "output_type": "stream",
     "text": [
      "These are the number of elements greater than zero: 143\n"
     ]
    }
   ],
   "source": [
    "# Count the number of non-zero values\n",
    "values_gt_zero = 0\n",
    "# Iterate through the matrix and identify non-zero positive elements\n",
    "for row in new_matrix:\n",
    "    for item in row:\n",
    "        if (item > 0): values_gt_zero += 1\n",
    "\n",
    "print(f'These are the number of elements greater than zero: {values_gt_zero}')\n"
   ]
  },
  {
   "cell_type": "markdown",
   "metadata": {},
   "source": [
    "#### Given this array x = np.array ([- 5,6, -7,9]), create another array in absolute value "
   ]
  },
  {
   "cell_type": "code",
   "execution_count": 10,
   "metadata": {},
   "outputs": [
    {
     "data": {
      "text/plain": [
       "array([5, 6, 7, 9])"
      ]
     },
     "execution_count": 10,
     "metadata": {},
     "output_type": "execute_result"
    }
   ],
   "source": [
    "# Create the new numpy array\n",
    "x = np.array ([- 5,6, -7,9])\n",
    "# Ensure the array only stores the absolute value of the element\n",
    "y = np.absolute(x)\n",
    "y\n"
   ]
  },
  {
   "cell_type": "markdown",
   "metadata": {},
   "source": [
    "#### Given this array x = np.array ([- 5,6, -7,9]), transform it into a 2x2 matrix and calculate the maximum and minimum of each row and column. "
   ]
  },
  {
   "cell_type": "code",
   "execution_count": 11,
   "metadata": {},
   "outputs": [
    {
     "name": "stdout",
     "output_type": "stream",
     "text": [
      "This is the row max: [-5  9]\n",
      "This is the row min: [-7  6]\n",
      "This is the column max: [6 9]\n",
      "This is the column min: [-5 -7]\n"
     ]
    },
    {
     "data": {
      "text/plain": [
       "array([[-5,  6],\n",
       "       [-7,  9]])"
      ]
     },
     "execution_count": 11,
     "metadata": {},
     "output_type": "execute_result"
    }
   ],
   "source": [
    "# your code:\n",
    "# Create the new numpy array\n",
    "x = np.array ([- 5,6, -7,9])\n",
    "# Resize the x array to 2x2\n",
    "x_reshaped = np.resize(x,(2,2))\n",
    "# Get the largest row\n",
    "max_rows = np.max(x_reshaped,axis=0)\n",
    "# Get the smallest row\n",
    "min_rows = np.min(x_reshaped,axis=0)\n",
    "# Get the largest column\n",
    "max_columns = np.max(x_reshaped,axis=1)\n",
    "# Get the smallest column\n",
    "min_columns = np.min(x_reshaped,axis=1)\n",
    "\n",
    "print(f'This is the row max: {max_rows}')\n",
    "print(f'This is the row min: {min_rows}')\n",
    "print(f'This is the column max: {max_columns}')\n",
    "print(f'This is the column min: {min_columns}')\n",
    "\n",
    "x_reshaped"
   ]
  },
  {
   "cell_type": "markdown",
   "metadata": {},
   "source": [
    "#### Create a matrix of ones with 3x3 range as a_ones, and modify the the a_ones[1][0] = 3  "
   ]
  },
  {
   "cell_type": "code",
   "execution_count": 12,
   "metadata": {},
   "outputs": [
    {
     "data": {
      "text/plain": [
       "array([[1, 1, 1],\n",
       "       [3, 1, 1],\n",
       "       [1, 1, 1]])"
      ]
     },
     "execution_count": 12,
     "metadata": {},
     "output_type": "execute_result"
    }
   ],
   "source": [
    "# your code:\n",
    "# Create a 3x3 matrix of ones\n",
    "a_ones = np.ones((3,3),dtype=int)\n",
    "# Set the value at row 1 column 0\n",
    "a_ones[1][0] = 3\n",
    "a_ones\n"
   ]
  },
  {
   "cell_type": "markdown",
   "metadata": {},
   "source": [
    "#### Compute dot product for a_ones and x_reshaped"
   ]
  },
  {
   "cell_type": "code",
   "execution_count": 36,
   "metadata": {},
   "outputs": [
    {
     "data": {
      "text/plain": [
       "array([[-12,  15],\n",
       "       [-22,  27],\n",
       "       [-12,  15]])"
      ]
     },
     "execution_count": 36,
     "metadata": {},
     "output_type": "execute_result"
    }
   ],
   "source": [
    "# your code\n",
    "# Need to have different size for a_ones or matrix multiplication will not work\n",
    "a_ones = np.ones((3,2),dtype=int)\n",
    "# Set the value at row 1 column 0\n",
    "a_ones[1][0] = 3\n",
    "\n",
    "# Matrix Multiplication\n",
    "np.dot(a_ones,x_reshaped)\n",
    "\n",
    "\n",
    "# List the mathematical calculation steps\n",
    "# a_ones is a 3x2 matrix and x_reshaped is a 2x2 matrix where the resulting matrix is 3x2\n",
    "# resulting array is\n",
    "# [[x_00, x_01],\n",
    "#  [x_10, x_11],\n",
    "#  [x_20, x_21]]\n",
    "# \n",
    "# Calculations are as follows:\n",
    "# x_00 = a_ones[0][0] * x_reshaped[0][0] + a_ones[0][1] * x_reshaped[1][0]\n",
    "# x_10 = a_ones[1][0] * x_reshaped[0][0] + a_ones[1][1] * x_reshaped[1][0]\n",
    "# x_20 = a_ones[2][0] * x_reshaped[0][0] + a_ones[2][1] * x_reshaped[1][0]\n",
    "#\n",
    "# x_01 = a_ones[0][0] * x_reshaped[0][1] + a_ones[0][1] * x_reshaped[1][1]\n",
    "# x_11 = a_ones[1][0] * x_reshaped[0][1] + a_ones[1][1] * x_reshaped[1][1]\n",
    "# x_21 = a_ones[2][0] * x_reshaped[0][1] + a_ones[2][1] * x_reshaped[1][1]\n"
   ]
  },
  {
   "cell_type": "markdown",
   "metadata": {},
   "source": [
    "## Exercise 2 - Plot Practice"
   ]
  },
  {
   "cell_type": "markdown",
   "metadata": {},
   "source": [
    "#### Undergraduate student Instructions (CS457)\n",
    "\n",
    "- Let's think if we have this function: f (t) defined by: f (t) = 2t / (1 + t ^ 2) ^ 2 with t> 0.\n",
    "- Where t could be generated by np.linspace(0,10,100)\n",
    "- Provide plot results"
   ]
  },
  {
   "cell_type": "code",
   "execution_count": 72,
   "metadata": {},
   "outputs": [],
   "source": [
    "# Your code:\n",
    "\n",
    "# Define the function f(t)\n",
    "# This will calculate the value of t for the function listed above\n",
    "def f(t):\n",
    "    return 2 * t / (1 + t**2)**2\n",
    "\n",
    "# Since t must be greater and not equal to 0\n",
    "# We create a numpy array of values\n",
    "t = np.linspace(0.1,10,100)\n",
    "# Result list of y values from the function\n",
    "y = f(t)\n"
   ]
  },
  {
   "cell_type": "code",
   "execution_count": 73,
   "metadata": {},
   "outputs": [
    {
     "data": {
      "image/png": "[encoded data removed]",
      "text/plain": [
       "<Figure size 800x500 with 1 Axes>"
      ]
     },
     "metadata": {},
     "output_type": "display_data"
    }
   ],
   "source": [
    "# Plot graph with x, y and label set the fontsize = 14\n",
    "# Plot <Your Name> + title and set the fontsize = 14\n",
    "# plot size as (8,5)\n",
    "# plot with legend\n",
    "# plot with grid\n",
    "\n",
    "# Plot the function\n",
    "plt.figure(figsize=(8, 5))\n",
    "plt.plot(t, y, label=r\"$f(t) = \\frac{2t}{(1 + t^2)^2}$\", color=\"blue\")\n",
    "plt.xlabel(\"$t$\", fontsize=14)\n",
    "plt.ylabel(\"$f(t)$\", fontsize=14)\n",
    "plt.axhline(0, color=\"red\", linewidth=0.5, linestyle=\"--\")\n",
    "plt.axvline(0, color=\"red\", linewidth=0.5, linestyle=\"--\")\n",
    "plt.legend(fontsize=14)\n",
    "plt.grid(alpha=0.4)\n",
    "\n",
    "plt.title(\"Joshua Summers + Graph of $y = \\\\frac{2x}{(1+x^2)^2}$\", fontsize=14)\n",
    "\n",
    "plt.show()"
   ]
  },
  {
   "cell_type": "markdown",
   "metadata": {},
   "source": [
    "#### Graduate student Instructions (CS557)\n",
    "\n",
    "- Let's think if we have this function: f (t) defined by: f (t) = 2t / (1 + t ^ 2) ^ 2 with t> 0.\n",
    "- Where t could be generated by np.linspace(0,10,100)\n",
    "- Provide line graph with mask = star\n",
    "- Provide bar graph with any 5 points data"
   ]
  },
  {
   "cell_type": "code",
   "execution_count": 50,
   "metadata": {},
   "outputs": [],
   "source": [
    "# Your code:\n",
    "# Define the function f(t)\n",
    "# This will calculate the value of t for the function listed above\n",
    "def f(t):\n",
    "    return 2 * t / (1 + t**2)**2\n",
    "\n",
    "# Since t must be greater and not equal to 0\n",
    "# We create a numpy array of values\n",
    "t = np.linspace(0.1,10,100)\n",
    "# Result list of y values from the function\n",
    "y = f(t)"
   ]
  },
  {
   "cell_type": "code",
   "execution_count": 74,
   "metadata": {},
   "outputs": [
    {
     "data": {
      "image/png": "[encoded data removed]",
      "text/plain": [
       "<Figure size 800x500 with 1 Axes>"
      ]
     },
     "metadata": {},
     "output_type": "display_data"
    }
   ],
   "source": [
    "# Line Graph\n",
    "# Plot graph with x, y and label set the fontsize = 14\n",
    "# Plot <Your Name> + title and set the fontsize = 14\n",
    "# plot size as (8,5)\n",
    "# plot with legend\n",
    "# plot with grid\n",
    "plt.figure(figsize=(8, 5))\n",
    "plt.plot(t, y, label=r\"$f(t) = \\frac{2t}{(1 + t^2)^2}$\", color=\"blue\", marker=\"*\", markevery=10, markersize=8)\n",
    "plt.xlabel(\"$t$\", fontsize=14)\n",
    "plt.ylabel(\"$f(t)$\", fontsize=14)\n",
    "plt.axhline(0, color=\"red\", linewidth=0.5, linestyle=\"--\")\n",
    "plt.axvline(0, color=\"red\", linewidth=0.5, linestyle=\"--\")\n",
    "plt.legend(fontsize=14)\n",
    "plt.grid(alpha=0.4)\n",
    "\n",
    "plt.title(\"Joshua Summers + Graph of $y = \\\\frac{2x}{(1+x^2)^2}$ with Star Markers\", fontsize=14)\n",
    "\n",
    "plt.show()"
   ]
  },
  {
   "cell_type": "code",
   "execution_count": 117,
   "metadata": {},
   "outputs": [
    {
     "data": {
      "image/png": "[encoded data removed]",
      "text/plain": [
       "<Figure size 800x500 with 1 Axes>"
      ]
     },
     "metadata": {},
     "output_type": "display_data"
    }
   ],
   "source": [
    "# Bar Graph\n",
    "# Plot graph with x, y and label set the fontsize = 14\n",
    "# Plot <Your Name> + title and set the fontsize = 14\n",
    "# plot size as (8,5)\n",
    "# plot with legend\n",
    "# plot with grid\n",
    "\n",
    "# Create bar graph with 5 points of data\n",
    "# Carve out some x values to limit the values\n",
    "t_vals = np.linspace(0.1,8,9)[::2]\n",
    "# Calculate the y values from the function\n",
    "y_vals = f(t_vals)\n",
    "# Normalize the t values\n",
    "t_vals = np.array([int(x) for x in t_vals])\n",
    "\n",
    "plt.figure(figsize=(8, 5))\n",
    "plt.bar(t_vals, y_vals, color=[\"red\", \"blue\", \"green\", \"purple\", \"orange\"])\n",
    "plt.xlabel(\"$t$\", fontsize=14)\n",
    "plt.ylabel(\"$f(t)$\", fontsize=14)\n",
    "plt.grid(axis=\"y\", alpha=0.4)\n",
    "\n",
    "plt.title(\"Joshua Summers + Graph of $y = \\\\frac{2x}{(1+x^2)^2}$ as Bar Graph\", fontsize=14)\n",
    "\n",
    "plt.show()"
   ]
  },
  {
   "cell_type": "markdown",
   "metadata": {},
   "source": [
    "# Exercise 3 - Pandas "
   ]
  },
  {
   "cell_type": "markdown",
   "metadata": {},
   "source": [
    "#### You have obtained a piece of data about a hill. Please manually assign this data to a dictionary.\n",
    "\n",
    "\n",
    "\"Hill Name\": [\"Everest\", \"K2\", \"Kangchenjunga\", \"Lhotse\", \"Makalu\", \"Cho Oyu\", \"Dhaulagiri\", \"Manaslu\", \"Nanga Parbat\", \"Annapurna\"],\n",
    "\n",
    "\"Height (m)\": [8848, 8611, 8586, 8516, 8485, 8188, 8167, 8163, 8126, 8091],\n",
    "\n",
    "\"Location\": [\"Nepal/China\", \"Pakistan/China\", \"Nepal/India\", \"Nepal/China\", \"Nepal/China\", \"Nepal/China\", \"Nepal\", \"Nepal\", \"Pakistan\", \"Nepal\"],\n",
    "\n",
    "\"First Ascent Year\": [1953, 1954, 1955, 1956, 1955, 1954, 1960, 1956, 1953, 1950],\n",
    "\n",
    "\"Prominence (m)\": [8848, 4017, 3922, 610, 2378, 2340, 3357, 3092, 4608, 2984]\n"
   ]
  },
  {
   "cell_type": "code",
   "execution_count": 96,
   "metadata": {},
   "outputs": [],
   "source": [
    "# Your code:\n",
    "# Create a dictionary from the data above\n",
    "hill_data = {\n",
    "    \"Hill Name\": [\"Everest\", \"K2\", \"Kangchenjunga\", \"Lhotse\", \"Makalu\", \"Cho Oyu\", \"Dhaulagiri\", \"Manaslu\", \"Nanga Parbat\", \"Annapurna\"],\n",
    "    \"Height (m)\": [8848, 8611, 8586, 8516, 8485, 8188, 8167, 8163, 8126, 8091],\n",
    "    \"Location\": [\"Nepal/China\", \"Pakistan/China\", \"Nepal/India\", \"Nepal/China\", \"Nepal/China\", \"Nepal/China\", \"Nepal\", \"Nepal\", \"Pakistan\", \"Nepal\"],\n",
    "    \"First Ascent Year\": [1953, 1954, 1955, 1956, 1955, 1954, 1960, 1956, 1953, 1950],\n",
    "    \"Prominence (m)\": [8848, 4017, 3922, 610, 2378, 2340, 3357, 3092, 4608, 2984]\n",
    "}"
   ]
  },
  {
   "cell_type": "markdown",
   "metadata": {},
   "source": [
    "#### Convert your dictionary to a pandas dataframe with name hill_pd"
   ]
  },
  {
   "cell_type": "code",
   "execution_count": 98,
   "metadata": {},
   "outputs": [
    {
     "data": {
      "text/html": [
       "<div>\n",
       "<style scoped>\n",
       "    .dataframe tbody tr th:only-of-type {\n",
       "        vertical-align: middle;\n",
       "    }\n",
       "\n",
       "    .dataframe tbody tr th {\n",
       "        vertical-align: top;\n",
       "    }\n",
       "\n",
       "    .dataframe thead th {\n",
       "        text-align: right;\n",
       "    }\n",
       "</style>\n",
       "<table border=\"1\" class=\"dataframe\">\n",
       "  <thead>\n",
       "    <tr style=\"text-align: right;\">\n",
       "      <th></th>\n",
       "      <th>Hill Name</th>\n",
       "      <th>Height (m)</th>\n",
       "      <th>Location</th>\n",
       "      <th>First Ascent Year</th>\n",
       "      <th>Prominence (m)</th>\n",
       "    </tr>\n",
       "  </thead>\n",
       "  <tbody>\n",
       "    <tr>\n",
       "      <th>0</th>\n",
       "      <td>Everest</td>\n",
       "      <td>8848</td>\n",
       "      <td>Nepal/China</td>\n",
       "      <td>1953</td>\n",
       "      <td>8848</td>\n",
       "    </tr>\n",
       "    <tr>\n",
       "      <th>1</th>\n",
       "      <td>K2</td>\n",
       "      <td>8611</td>\n",
       "      <td>Pakistan/China</td>\n",
       "      <td>1954</td>\n",
       "      <td>4017</td>\n",
       "    </tr>\n",
       "    <tr>\n",
       "      <th>2</th>\n",
       "      <td>Kangchenjunga</td>\n",
       "      <td>8586</td>\n",
       "      <td>Nepal/India</td>\n",
       "      <td>1955</td>\n",
       "      <td>3922</td>\n",
       "    </tr>\n",
       "    <tr>\n",
       "      <th>3</th>\n",
       "      <td>Lhotse</td>\n",
       "      <td>8516</td>\n",
       "      <td>Nepal/China</td>\n",
       "      <td>1956</td>\n",
       "      <td>610</td>\n",
       "    </tr>\n",
       "    <tr>\n",
       "      <th>4</th>\n",
       "      <td>Makalu</td>\n",
       "      <td>8485</td>\n",
       "      <td>Nepal/China</td>\n",
       "      <td>1955</td>\n",
       "      <td>2378</td>\n",
       "    </tr>\n",
       "    <tr>\n",
       "      <th>5</th>\n",
       "      <td>Cho Oyu</td>\n",
       "      <td>8188</td>\n",
       "      <td>Nepal/China</td>\n",
       "      <td>1954</td>\n",
       "      <td>2340</td>\n",
       "    </tr>\n",
       "    <tr>\n",
       "      <th>6</th>\n",
       "      <td>Dhaulagiri</td>\n",
       "      <td>8167</td>\n",
       "      <td>Nepal</td>\n",
       "      <td>1960</td>\n",
       "      <td>3357</td>\n",
       "    </tr>\n",
       "    <tr>\n",
       "      <th>7</th>\n",
       "      <td>Manaslu</td>\n",
       "      <td>8163</td>\n",
       "      <td>Nepal</td>\n",
       "      <td>1956</td>\n",
       "      <td>3092</td>\n",
       "    </tr>\n",
       "    <tr>\n",
       "      <th>8</th>\n",
       "      <td>Nanga Parbat</td>\n",
       "      <td>8126</td>\n",
       "      <td>Pakistan</td>\n",
       "      <td>1953</td>\n",
       "      <td>4608</td>\n",
       "    </tr>\n",
       "    <tr>\n",
       "      <th>9</th>\n",
       "      <td>Annapurna</td>\n",
       "      <td>8091</td>\n",
       "      <td>Nepal</td>\n",
       "      <td>1950</td>\n",
       "      <td>2984</td>\n",
       "    </tr>\n",
       "  </tbody>\n",
       "</table>\n",
       "</div>"
      ],
      "text/plain": [
       "       Hill Name  Height (m)        Location  First Ascent Year  \\\n",
       "0        Everest        8848     Nepal/China               1953   \n",
       "1             K2        8611  Pakistan/China               1954   \n",
       "2  Kangchenjunga        8586     Nepal/India               1955   \n",
       "3         Lhotse        8516     Nepal/China               1956   \n",
       "4         Makalu        8485     Nepal/China               1955   \n",
       "5        Cho Oyu        8188     Nepal/China               1954   \n",
       "6     Dhaulagiri        8167           Nepal               1960   \n",
       "7        Manaslu        8163           Nepal               1956   \n",
       "8   Nanga Parbat        8126        Pakistan               1953   \n",
       "9      Annapurna        8091           Nepal               1950   \n",
       "\n",
       "   Prominence (m)  \n",
       "0            8848  \n",
       "1            4017  \n",
       "2            3922  \n",
       "3             610  \n",
       "4            2378  \n",
       "5            2340  \n",
       "6            3357  \n",
       "7            3092  \n",
       "8            4608  \n",
       "9            2984  "
      ]
     },
     "execution_count": 98,
     "metadata": {},
     "output_type": "execute_result"
    }
   ],
   "source": [
    "#Your code:\n",
    "# Create a pandas data frame from the existing dictionary\n",
    "hill_pd = pd.DataFrame(hill_data)\n",
    "hill_pd"
   ]
  },
  {
   "cell_type": "markdown",
   "metadata": {},
   "source": [
    "#### Save your hill_pd to csv"
   ]
  },
  {
   "cell_type": "code",
   "execution_count": 100,
   "metadata": {},
   "outputs": [],
   "source": [
    "# Your code:\n",
    "# Use pandas to export the data frame to CSV without indexes\n",
    "hill_pd.to_csv('hill_data.csv', index=False)"
   ]
  },
  {
   "cell_type": "markdown",
   "metadata": {},
   "source": [
    "#### Read your hill data from your csv"
   ]
  },
  {
   "cell_type": "code",
   "execution_count": 102,
   "metadata": {},
   "outputs": [
    {
     "data": {
      "text/html": [
       "<div>\n",
       "<style scoped>\n",
       "    .dataframe tbody tr th:only-of-type {\n",
       "        vertical-align: middle;\n",
       "    }\n",
       "\n",
       "    .dataframe tbody tr th {\n",
       "        vertical-align: top;\n",
       "    }\n",
       "\n",
       "    .dataframe thead th {\n",
       "        text-align: right;\n",
       "    }\n",
       "</style>\n",
       "<table border=\"1\" class=\"dataframe\">\n",
       "  <thead>\n",
       "    <tr style=\"text-align: right;\">\n",
       "      <th></th>\n",
       "      <th>Hill Name</th>\n",
       "      <th>Height (m)</th>\n",
       "      <th>Location</th>\n",
       "      <th>First Ascent Year</th>\n",
       "      <th>Prominence (m)</th>\n",
       "    </tr>\n",
       "  </thead>\n",
       "  <tbody>\n",
       "    <tr>\n",
       "      <th>0</th>\n",
       "      <td>Everest</td>\n",
       "      <td>8848</td>\n",
       "      <td>Nepal/China</td>\n",
       "      <td>1953</td>\n",
       "      <td>8848</td>\n",
       "    </tr>\n",
       "    <tr>\n",
       "      <th>1</th>\n",
       "      <td>K2</td>\n",
       "      <td>8611</td>\n",
       "      <td>Pakistan/China</td>\n",
       "      <td>1954</td>\n",
       "      <td>4017</td>\n",
       "    </tr>\n",
       "    <tr>\n",
       "      <th>2</th>\n",
       "      <td>Kangchenjunga</td>\n",
       "      <td>8586</td>\n",
       "      <td>Nepal/India</td>\n",
       "      <td>1955</td>\n",
       "      <td>3922</td>\n",
       "    </tr>\n",
       "    <tr>\n",
       "      <th>3</th>\n",
       "      <td>Lhotse</td>\n",
       "      <td>8516</td>\n",
       "      <td>Nepal/China</td>\n",
       "      <td>1956</td>\n",
       "      <td>610</td>\n",
       "    </tr>\n",
       "    <tr>\n",
       "      <th>4</th>\n",
       "      <td>Makalu</td>\n",
       "      <td>8485</td>\n",
       "      <td>Nepal/China</td>\n",
       "      <td>1955</td>\n",
       "      <td>2378</td>\n",
       "    </tr>\n",
       "    <tr>\n",
       "      <th>5</th>\n",
       "      <td>Cho Oyu</td>\n",
       "      <td>8188</td>\n",
       "      <td>Nepal/China</td>\n",
       "      <td>1954</td>\n",
       "      <td>2340</td>\n",
       "    </tr>\n",
       "    <tr>\n",
       "      <th>6</th>\n",
       "      <td>Dhaulagiri</td>\n",
       "      <td>8167</td>\n",
       "      <td>Nepal</td>\n",
       "      <td>1960</td>\n",
       "      <td>3357</td>\n",
       "    </tr>\n",
       "    <tr>\n",
       "      <th>7</th>\n",
       "      <td>Manaslu</td>\n",
       "      <td>8163</td>\n",
       "      <td>Nepal</td>\n",
       "      <td>1956</td>\n",
       "      <td>3092</td>\n",
       "    </tr>\n",
       "    <tr>\n",
       "      <th>8</th>\n",
       "      <td>Nanga Parbat</td>\n",
       "      <td>8126</td>\n",
       "      <td>Pakistan</td>\n",
       "      <td>1953</td>\n",
       "      <td>4608</td>\n",
       "    </tr>\n",
       "    <tr>\n",
       "      <th>9</th>\n",
       "      <td>Annapurna</td>\n",
       "      <td>8091</td>\n",
       "      <td>Nepal</td>\n",
       "      <td>1950</td>\n",
       "      <td>2984</td>\n",
       "    </tr>\n",
       "  </tbody>\n",
       "</table>\n",
       "</div>"
      ],
      "text/plain": [
       "       Hill Name  Height (m)        Location  First Ascent Year  \\\n",
       "0        Everest        8848     Nepal/China               1953   \n",
       "1             K2        8611  Pakistan/China               1954   \n",
       "2  Kangchenjunga        8586     Nepal/India               1955   \n",
       "3         Lhotse        8516     Nepal/China               1956   \n",
       "4         Makalu        8485     Nepal/China               1955   \n",
       "5        Cho Oyu        8188     Nepal/China               1954   \n",
       "6     Dhaulagiri        8167           Nepal               1960   \n",
       "7        Manaslu        8163           Nepal               1956   \n",
       "8   Nanga Parbat        8126        Pakistan               1953   \n",
       "9      Annapurna        8091           Nepal               1950   \n",
       "\n",
       "   Prominence (m)  \n",
       "0            8848  \n",
       "1            4017  \n",
       "2            3922  \n",
       "3             610  \n",
       "4            2378  \n",
       "5            2340  \n",
       "6            3357  \n",
       "7            3092  \n",
       "8            4608  \n",
       "9            2984  "
      ]
     },
     "execution_count": 102,
     "metadata": {},
     "output_type": "execute_result"
    }
   ],
   "source": [
    "# your code\n",
    "# Use pandas to read the CSV file into a data frame\n",
    "df = pd.read_csv('hill_data.csv')\n",
    "df"
   ]
  },
  {
   "cell_type": "markdown",
   "metadata": {},
   "source": [
    "#### Please select hills with an altitude higher than 8100 meters and express them in the form of a bar graph."
   ]
  },
  {
   "cell_type": "code",
   "execution_count": 108,
   "metadata": {},
   "outputs": [
    {
     "data": {
      "text/html": [
       "<div>\n",
       "<style scoped>\n",
       "    .dataframe tbody tr th:only-of-type {\n",
       "        vertical-align: middle;\n",
       "    }\n",
       "\n",
       "    .dataframe tbody tr th {\n",
       "        vertical-align: top;\n",
       "    }\n",
       "\n",
       "    .dataframe thead th {\n",
       "        text-align: right;\n",
       "    }\n",
       "</style>\n",
       "<table border=\"1\" class=\"dataframe\">\n",
       "  <thead>\n",
       "    <tr style=\"text-align: right;\">\n",
       "      <th></th>\n",
       "      <th>Hill Name</th>\n",
       "      <th>Height (m)</th>\n",
       "      <th>Location</th>\n",
       "      <th>First Ascent Year</th>\n",
       "      <th>Prominence (m)</th>\n",
       "    </tr>\n",
       "  </thead>\n",
       "  <tbody>\n",
       "    <tr>\n",
       "      <th>0</th>\n",
       "      <td>Everest</td>\n",
       "      <td>8848</td>\n",
       "      <td>Nepal/China</td>\n",
       "      <td>1953</td>\n",
       "      <td>8848</td>\n",
       "    </tr>\n",
       "    <tr>\n",
       "      <th>1</th>\n",
       "      <td>K2</td>\n",
       "      <td>8611</td>\n",
       "      <td>Pakistan/China</td>\n",
       "      <td>1954</td>\n",
       "      <td>4017</td>\n",
       "    </tr>\n",
       "    <tr>\n",
       "      <th>2</th>\n",
       "      <td>Kangchenjunga</td>\n",
       "      <td>8586</td>\n",
       "      <td>Nepal/India</td>\n",
       "      <td>1955</td>\n",
       "      <td>3922</td>\n",
       "    </tr>\n",
       "    <tr>\n",
       "      <th>3</th>\n",
       "      <td>Lhotse</td>\n",
       "      <td>8516</td>\n",
       "      <td>Nepal/China</td>\n",
       "      <td>1956</td>\n",
       "      <td>610</td>\n",
       "    </tr>\n",
       "    <tr>\n",
       "      <th>4</th>\n",
       "      <td>Makalu</td>\n",
       "      <td>8485</td>\n",
       "      <td>Nepal/China</td>\n",
       "      <td>1955</td>\n",
       "      <td>2378</td>\n",
       "    </tr>\n",
       "    <tr>\n",
       "      <th>5</th>\n",
       "      <td>Cho Oyu</td>\n",
       "      <td>8188</td>\n",
       "      <td>Nepal/China</td>\n",
       "      <td>1954</td>\n",
       "      <td>2340</td>\n",
       "    </tr>\n",
       "    <tr>\n",
       "      <th>6</th>\n",
       "      <td>Dhaulagiri</td>\n",
       "      <td>8167</td>\n",
       "      <td>Nepal</td>\n",
       "      <td>1960</td>\n",
       "      <td>3357</td>\n",
       "    </tr>\n",
       "    <tr>\n",
       "      <th>7</th>\n",
       "      <td>Manaslu</td>\n",
       "      <td>8163</td>\n",
       "      <td>Nepal</td>\n",
       "      <td>1956</td>\n",
       "      <td>3092</td>\n",
       "    </tr>\n",
       "    <tr>\n",
       "      <th>8</th>\n",
       "      <td>Nanga Parbat</td>\n",
       "      <td>8126</td>\n",
       "      <td>Pakistan</td>\n",
       "      <td>1953</td>\n",
       "      <td>4608</td>\n",
       "    </tr>\n",
       "  </tbody>\n",
       "</table>\n",
       "</div>"
      ],
      "text/plain": [
       "       Hill Name  Height (m)        Location  First Ascent Year  \\\n",
       "0        Everest        8848     Nepal/China               1953   \n",
       "1             K2        8611  Pakistan/China               1954   \n",
       "2  Kangchenjunga        8586     Nepal/India               1955   \n",
       "3         Lhotse        8516     Nepal/China               1956   \n",
       "4         Makalu        8485     Nepal/China               1955   \n",
       "5        Cho Oyu        8188     Nepal/China               1954   \n",
       "6     Dhaulagiri        8167           Nepal               1960   \n",
       "7        Manaslu        8163           Nepal               1956   \n",
       "8   Nanga Parbat        8126        Pakistan               1953   \n",
       "\n",
       "   Prominence (m)  \n",
       "0            8848  \n",
       "1            4017  \n",
       "2            3922  \n",
       "3             610  \n",
       "4            2378  \n",
       "5            2340  \n",
       "6            3357  \n",
       "7            3092  \n",
       "8            4608  "
      ]
     },
     "execution_count": 108,
     "metadata": {},
     "output_type": "execute_result"
    }
   ],
   "source": [
    "# your code:\n",
    "# Limit the data frame to rows that match the column reduction\n",
    "selected_hill = hill_pd[hill_pd[\"Height (m)\"] > 8100]\n",
    "selected_hill"
   ]
  },
  {
   "cell_type": "code",
   "execution_count": 121,
   "metadata": {},
   "outputs": [
    {
     "data": {
      "image/png": "[encoded data removed]",
      "text/plain": [
       "<Figure size 800x500 with 1 Axes>"
      ]
     },
     "metadata": {},
     "output_type": "display_data"
    }
   ],
   "source": [
    "# Visualization\n",
    "# Need to add x,y labels, titles and grid.\n",
    "# Please add your name on graph titles.\n",
    "\n",
    "# Get the columns from the reduced pandas DF\n",
    "hill_names = selected_hill[\"Hill Name\"]\n",
    "hill_heights = selected_hill[\"Height (m)\"]\n",
    "\n",
    "plt.figure(figsize=(8, 5))\n",
    "plt.bar(hill_names, hill_heights, color=[\"red\", \"blue\", \"green\", \"purple\", \"orange\", \"yellow\", \"cyan\", \"brown\", \"pink\"])\n",
    "plt.xlabel(\"Hill Name\", fontsize=14)\n",
    "plt.xticks(rotation=45)\n",
    "plt.ylim(ymin=8000)\n",
    "plt.ylabel(\"Hill Height in (m)\", fontsize=14)\n",
    "plt.grid(axis=\"y\", alpha=0.4)\n",
    "\n",
    "plt.title(\"Joshua Summers + Graph of Hills with Height > 8100 (m)\", fontsize=14)\n",
    "\n",
    "plt.show()"
   ]
  },
  {
   "cell_type": "markdown",
   "metadata": {},
   "source": [
    "#### For Graduate students only (CS557)\n",
    "\n",
    "Please add another set of visualizations using the **Prominence** data and explain their significance."
   ]
  },
  {
   "cell_type": "code",
   "execution_count": 122,
   "metadata": {},
   "outputs": [
    {
     "data": {
      "image/png": "[encoded data removed]",
      "text/plain": [
       "<Figure size 800x500 with 1 Axes>"
      ]
     },
     "metadata": {},
     "output_type": "display_data"
    }
   ],
   "source": [
    "# Get the columns from the reduced pandas DF\n",
    "hill_names = selected_hill[\"Hill Name\"]\n",
    "hill_prominence = selected_hill[\"Prominence (m)\"]\n",
    "\n",
    "plt.figure(figsize=(8, 5))\n",
    "plt.bar(hill_names, hill_prominence, color=[\"red\", \"blue\", \"green\", \"purple\", \"orange\", \"yellow\", \"cyan\", \"brown\", \"pink\"])\n",
    "plt.xlabel(\"Hill Name\", fontsize=14)\n",
    "plt.xticks(rotation=45)\n",
    "plt.ylabel(\"Hill Prominence in (m)\", fontsize=14)\n",
    "plt.grid(axis=\"y\", alpha=0.4)\n",
    "\n",
    "plt.title(\"Joshua Summers + Graph of Hill Prominence with Heights > 8100 (m)\", fontsize=14)\n",
    "\n",
    "plt.show()"
   ]
  }
 ],
 "metadata": {
  "kernelspec": {
   "display_name": "Python 3 (ipykernel)",
   "language": "python",
   "name": "python3"
  },
  "language_info": {
   "codemirror_mode": {
    "name": "ipython",
    "version": 3
   },
   "file_extension": ".py",
   "mimetype": "text/x-python",
   "name": "python",
   "nbconvert_exporter": "python",
   "pygments_lexer": "ipython3",
   "version": "3.8.20"
  }
 },
 "nbformat": 4,
 "nbformat_minor": 4
}
