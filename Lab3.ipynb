{
 "cells": [
  {
   "cell_type": "markdown",
   "id": "488b8266",
   "metadata": {},
   "source": [
    "# Lab Assignment: Building a Neural Network from Scratch\n",
    "\n",
    "### Objective\n",
    "This lab guides you through the implementation of a simple feedforward neural network from scratch. \n",
    "By completing this lab, you will:\n",
    "- Initialize a neural network with weights and biases.\n",
    "- Compute the weighted sum at each node.\n",
    "- Apply activation functions for node outputs.\n",
    "- Perform forward propagation to compute predictions.\n",
    "- Implement backpropagation to compute gradients.\n",
    "- Update weights using gradients to minimize the loss."
   ]
  },
  {
   "cell_type": "markdown",
   "id": "2668a14e",
   "metadata": {},
   "source": [
    "## Step 1: Initialize the Network"
   ]
  },
  {
   "cell_type": "code",
   "execution_count": 109,
   "id": "396df339",
   "metadata": {},
   "outputs": [
    {
     "name": "stdout",
     "output_type": "stream",
     "text": [
      "Joshua Summers + Initialized Network: [{'weights': array([[-0.05018395,  0.18028572,  0.09279758],\n",
      "       [ 0.03946339, -0.13759254, -0.13760219],\n",
      "       [-0.17676656,  0.14647046,  0.040446  ],\n",
      "       [ 0.08322903, -0.1917662 ,  0.18796394]]), 'biases': array([[0., 0., 0., 0.]])}, {'weights': array([[ 0.13297706, -0.11506436, -0.12727001, -0.1266382 ],\n",
      "       [-0.0783031 ,  0.00990257, -0.02722199, -0.08350834],\n",
      "       [ 0.04474116, -0.14420246, -0.08314214, -0.05345526]]), 'biases': array([[0., 0., 0.]])}, {'weights': array([[-0.01757201,  0.11407038, -0.12013049]]), 'biases': array([[0.]])}]\n"
     ]
    }
   ],
   "source": [
    "import numpy as np\n",
    "np.random.seed(42) # For reproducibility\n",
    "\n",
    "def initialize_network(input_size, hidden_layers, output_size):\n",
    "\n",
    "    \n",
    "    # Your code should contain the weights and biases\n",
    "    # provide your code\n",
    "    # Intialize variables\n",
    "    num_nodes_previous = input_size # number of nodes in the previous layer\n",
    "    network = []\n",
    "    \n",
    "    # Randomly initialize the weights and biases associated with each layer\n",
    "    for layer in range(len(hidden_layers) + 1):\n",
    "        # Setup number of nodes\n",
    "        if layer == len(hidden_layers): num_nodes = output_size # Output Layer\n",
    "        else: num_nodes = hidden_layers[layer] # Hidden Layers\n",
    "        # Layer weights and biases initialization\n",
    "        weights = []\n",
    "        biases = []\n",
    "        # Initialize weights and bias for each node\n",
    "        for node in range(num_nodes): weights.append(np.random.uniform(low=-0.2, high=0.2, size=num_nodes_previous))\n",
    "        # Put the dictionary together and append it to the network\n",
    "        network.append({\n",
    "            'weights': np.array(weights),\n",
    "            'biases': np.array([(np.zeros(num_nodes))])\n",
    "        })\n",
    "        # Update the number of nodes in the previous layer\n",
    "        num_nodes_previous = num_nodes\n",
    "    # Send back the formatted network as a list of dictionaries\n",
    "    return network # return the network\n",
    "\n",
    "# Initialize a network with 3 inputs, 2 hidden layers (4 and 3 nodes), and 1 output node\n",
    "network = initialize_network(3, [4, 3], 1)\n",
    "print(\"Joshua Summers + Initialized Network:\", network)\n",
    "\n",
    "# Initialized Network: [{'weights': array([[ 0.04967142, -0.01382643,  0.06476885,  0.15230299],\n",
    "#        [-0.02341534, -0.0234137 ,  0.15792128,  0.07674347],\n",
    "#        [-0.04694744,  0.054256  , -0.04634177, -0.04657298]]), 'biases': array([[0., 0., 0., 0.]])}, {'weights': array([[ 0.02419623, -0.19132802, -0.17249178],\n",
    "#        [-0.05622875, -0.10128311,  0.03142473],\n",
    "#        [-0.09080241, -0.14123037,  0.14656488],\n",
    "#        [-0.02257763,  0.00675282, -0.14247482]]), 'biases': array([[0., 0., 0.]])}, {'weights': array([[-0.05443827],\n",
    "#        [ 0.01109226],\n",
    "#        [-0.11509936]]), 'biases': array([[0.]])}]"
   ]
  },
  {
   "cell_type": "markdown",
   "id": "3ecfdd84",
   "metadata": {},
   "source": [
    "## Step 2: Compute Weighted Sum"
   ]
  },
  {
   "cell_type": "code",
   "execution_count": 110,
   "id": "66c4ad58",
   "metadata": {},
   "outputs": [
    {
     "name": "stdout",
     "output_type": "stream",
     "text": [
      "Joshua Summers - Weighted Sum: [[-0.03428902 -0.03428902 -0.03428902 -0.03428902]]\n"
     ]
    }
   ],
   "source": [
    "def compute_weighted_sum(inputs, weights, biases):\n",
    "    # Please numpy dot to calculate the compute weighted with linear \n",
    "    # provide your code\n",
    "    return np.sum(inputs * weights) + biases\n",
    "    \n",
    "# Test weighted sum\n",
    "inputs = np.array([[0.5, 0.2, 0.1]])\n",
    "layer = network[0]  # First layer\n",
    "Z = compute_weighted_sum(inputs, layer['weights'], layer['biases'])\n",
    "print(\"Joshua Summers - Weighted Sum:\", Z)"
   ]
  },
  {
   "cell_type": "markdown",
   "id": "7d82553f",
   "metadata": {},
   "source": [
    "## Step 3: Compute Node Activation"
   ]
  },
  {
   "cell_type": "code",
   "execution_count": 111,
   "id": "36b00bf0",
   "metadata": {},
   "outputs": [
    {
     "name": "stdout",
     "output_type": "stream",
     "text": [
      "Joshua Summers - Activation: [[0.49142858 0.49142858 0.49142858 0.49142858]]\n"
     ]
    }
   ],
   "source": [
    "def sigmoid(Z):\n",
    "#     provide your code\n",
    "    return 1 / (1 + np.exp(-Z))\n",
    "\n",
    "def sigmoid_derivative(A):\n",
    "    # provide your code\n",
    "    return A * (1 - A)\n",
    "\n",
    "# Compute activation for the weighted sum\n",
    "A = sigmoid(Z)\n",
    "print(\"Joshua Summers - Activation:\", A)"
   ]
  },
  {
   "cell_type": "markdown",
   "id": "769f9c55",
   "metadata": {},
   "source": [
    "## Step 4: Perform Forward Propagation"
   ]
  },
  {
   "cell_type": "code",
   "execution_count": 112,
   "id": "5d2e9d28",
   "metadata": {},
   "outputs": [
    {
     "name": "stdout",
     "output_type": "stream",
     "text": [
      "[array([[0.5, 0.2, 0.1]]), array([[0.50506106, 0.49461345, 0.48624233, 0.50551419]]), array([[0.4711191 , 0.47748997, 0.47098835]]), array([[0.49740225]])]\n",
      "Joshua Summers - Final Output: [[0.49740225]]\n"
     ]
    }
   ],
   "source": [
    "def forward_propagation(inputs, network):\n",
    "    # provide your code\n",
    "    activations = [inputs]  # Start with the input layer\n",
    "    for layer in network:\n",
    "        z = []\n",
    "        a = []\n",
    "        for node in range(len(layer[\"weights\"])):\n",
    "            z_value = np.dot(activations[-1], layer[\"weights\"][node]) + layer['biases'][0][node]\n",
    "            z.append(z_value)\n",
    "            a.append(sigmoid(z_value))\n",
    "        activations.append(np.array([np.array(a).flatten()]))\n",
    "    return activations\n",
    "\n",
    "# Perform forward propagation\n",
    "activations = forward_propagation(inputs, network)\n",
    "print(activations)\n",
    "print(\"Joshua Summers - Final Output:\", activations[-1])\n",
    "\n",
    "# [array([[0.5, 0.2, 0.1]]), array([[0.5038644 , 0.49845742, 0.51482928, 0.52169709]]), array([[0.48141795, 0.44619037, 0.48247683]]), array([[0.48081166]])]\n",
    "# Final Output: [[0.48081166]]"
   ]
  },
  {
   "cell_type": "markdown",
   "id": "e342f58d",
   "metadata": {},
   "source": [
    "## Step 5: Backpropagation"
   ]
  },
  {
   "cell_type": "code",
   "execution_count": 113,
   "id": "1ec4d75a",
   "metadata": {},
   "outputs": [
    {
     "name": "stdout",
     "output_type": "stream",
     "text": [
      "Joshua Summers - Gradients: [{'dW': array([[ 6.51703274e-05, -8.01185450e-05, -3.56418583e-05,\n",
      "         3.48889239e-06],\n",
      "       [ 2.60681309e-05, -3.20474180e-05, -1.42567433e-05,\n",
      "         1.39555696e-06],\n",
      "       [ 1.30340655e-05, -1.60237090e-05, -7.12837166e-06,\n",
      "         6.97778478e-07]]), 'db': array([[ 1.30340655e-04, -1.60237090e-04, -7.12837166e-05,\n",
      "         6.97778478e-06]])}, {'dW': array([[ 0.00027785, -0.00180603,  0.00189942],\n",
      "       [ 0.0002721 , -0.00176867,  0.00186013],\n",
      "       [ 0.00026749, -0.00173873,  0.00182865],\n",
      "       [ 0.00027809, -0.00180765,  0.00190113]]), 'db': array([[ 0.00055012, -0.00357586,  0.00376078]])}, {'dW': array([[-0.05919425],\n",
      "       [-0.05999473],\n",
      "       [-0.05917782]]), 'db': array([[-0.12564605]])}]\n"
     ]
    }
   ],
   "source": [
    "learning_rate = 0.6 # Learning rate\n",
    "\n",
    "def backpropagation(network, activations, y_true):\n",
    "    # provide your code\n",
    "    # Initialize variables\n",
    "    gradients = []  # Store gradients for each layer\n",
    "    length = len(network)  # Number of layers\n",
    "\n",
    "    # Step 1: Compute the delta for the output layer\n",
    "    delta = (activations[-1] - y_true) * sigmoid_derivative(activations[-1])\n",
    "\n",
    "    # Step 2: Backpropagate through the layers\n",
    "    for layer_idx in reversed(range(length)):\n",
    "        layer = network[layer_idx] # Get the current layer\n",
    "\n",
    "        # Compute gradients for weights and biases\n",
    "        a_prev = activations[layer_idx]  # Activation of previous layer\n",
    "        dW = np.dot(a_prev.T, delta)  # Compute gradient for weights\n",
    "        db = np.sum(delta, axis=0, keepdims=True)  # Compute gradient for biases\n",
    "\n",
    "        # Store gradients for the current layer\n",
    "        gradients.insert(0, {'dW': dW, 'db': db})  # Insert at beginning to match network order\n",
    "\n",
    "        # Compute the delta for the previous layer (hidden layers)\n",
    "        if layer_idx > 0:\n",
    "            weights = layer['weights']  # Current layer weights\n",
    "            # Compute the new delta\n",
    "            delta = np.dot(delta, weights) * sigmoid_derivative(activations[layer_idx])\n",
    "            \n",
    "    # Return the gradients\n",
    "    return gradients\n",
    "\n",
    "# Compute gradients\n",
    "y_true = np.array([[1]])  # Example target output\n",
    "gradients = backpropagation(network, activations, y_true)\n",
    "print(\"Joshua Summers - Gradients:\", gradients)\n",
    "\n",
    "# Gradients: [{'dW': array([[-6.64848659e-05,  6.74836392e-06,  5.44712791e-05,\n",
    "#         -7.14726125e-05],\n",
    "#        [-2.65939464e-05,  2.69934557e-06,  2.17885116e-05,\n",
    "#         -2.85890450e-05],\n",
    "#        [-1.32969732e-05,  1.34967278e-06,  1.08942558e-05,\n",
    "#         -1.42945225e-05]]), 'db': array([[-1.32969732e-04,  1.34967278e-05,  1.08942558e-04,\n",
    "#         -1.42945225e-04]])}, {'dW': array([[ 0.00088753, -0.00017899,  0.0018768 ],\n",
    "#        [ 0.00087801, -0.00017707,  0.00185666],\n",
    "#        [ 0.00090684, -0.00018289,  0.00191764],\n",
    "#        [ 0.00091894, -0.00018533,  0.00194322]]), 'db': array([[ 0.00176144, -0.00035524,  0.00372481]])}, {'dW': array([[-0.06239462],\n",
    "#        [-0.05782892],\n",
    "#        [-0.06253186]]), 'db': array([[-0.12960592]])}]"
   ]
  },
  {
   "cell_type": "markdown",
   "id": "d6b81797-9f82-493a-a509-b1360f04071c",
   "metadata": {},
   "source": [
    "## Step 6: Update Weights"
   ]
  },
  {
   "cell_type": "code",
   "execution_count": 114,
   "id": "33990e4e-9a02-4728-9ff5-fc41e7ef42be",
   "metadata": {},
   "outputs": [
    {
     "name": "stdout",
     "output_type": "stream",
     "text": [
      "Joshua Summers - Updated Network: [{'weights': array([[-0.05019047,  0.18027921,  0.09279106],\n",
      "       [ 0.03947141, -0.13758453, -0.13759418],\n",
      "       [-0.17676299,  0.14647402,  0.04044957],\n",
      "       [ 0.08322868, -0.19176655,  0.18796359]]), 'biases': array([[9.42023671e-06, 9.42023671e-06, 9.42023671e-06, 9.42023671e-06]])}, {'weights': array([[ 0.13294985, -0.11509157, -0.12729722, -0.12666541],\n",
      "       [-0.07812624,  0.01007944, -0.02704513, -0.08333148],\n",
      "       [ 0.04455514, -0.14438847, -0.08332815, -0.05364128]]), 'biases': array([[-7.35036792e-05, -7.35036792e-05, -7.35036792e-05]])}, {'weights': array([[-0.01165422,  0.11998817, -0.1142127 ]]), 'biases': array([[0.0125646]])}]\n"
     ]
    }
   ],
   "source": [
    "def update_weights(network, gradients, learning_rate):\n",
    "    # Hints: weights -= learning_rate * 'dW'\n",
    "    # Hints: biases -= learning_rate * 'db'\n",
    "    # Provide your code\n",
    "    # Iterate through the network\n",
    "    for layer_idx, layer in enumerate(network):\n",
    "        # Get the length of weights\n",
    "        length = len(layer['weights'])\n",
    "        gradient = gradients[layer_idx]\n",
    "        # Iterate through the weights and update weights and biases on the same index\n",
    "        for index, weight in enumerate(network[layer_idx]['weights']):\n",
    "            dW = gradient['dW'][layer_idx][index]\n",
    "            db = gradient['db'][0][index]\n",
    "            network[layer_idx]['weights'][index] -= learning_rate * dW\n",
    "            network[layer_idx]['biases'][0] -= learning_rate * db\n",
    "        \n",
    "\n",
    "# Update weights with a learning rate of 0.1\n",
    "update_weights(network, gradients, learning_rate=0.1)\n",
    "print(\"Joshua Summers - Updated Network:\", network)"
   ]
  },
  {
   "cell_type": "markdown",
   "id": "ed55add1",
   "metadata": {},
   "source": [
    "## Step 7: Visualizing Loss Changes"
   ]
  },
  {
   "cell_type": "code",
   "execution_count": 115,
   "id": "9fe355dc",
   "metadata": {},
   "outputs": [],
   "source": [
    "# Use MSE to compute the loss \n",
    "def compute_loss(y_true, y_pred):\n",
    "    # provide your code\n",
    "    return np.mean((y_true - y_pred) ** 2)\n"
   ]
  },
  {
   "cell_type": "code",
   "execution_count": 108,
   "id": "f7270921",
   "metadata": {},
   "outputs": [
    {
     "data": {
      "image/png": "[encoded data removed]",
      "text/plain": [
       "<Figure size 640x480 with 1 Axes>"
      ]
     },
     "metadata": {},
     "output_type": "display_data"
    }
   ],
   "source": [
    "import matplotlib.pyplot as plt\n",
    "\n",
    "# Training Loop\n",
    "losses = []\n",
    "inputs = np.array([[0.5, 0.2, 0.1]])\n",
    "y_true = np.array([[1]])\n",
    "learning_rate = 0.1\n",
    "\n",
    "for iteration in range(100):\n",
    "    # provide your code\n",
    "    # Hints: forward_propagation function with inputs network\n",
    "    #        compute_loss for y_true and activations[-1]\n",
    "    #        add loss to losses\n",
    "    # gradients = backpropagation function\n",
    "    # update_weights\n",
    "\n",
    "    # Step 1: Perform forward propagation to compute the network's predictions\n",
    "    activations = forward_propagation(inputs, network)  # Forward pass\n",
    "    \n",
    "    # Step 2: Compute the loss (error) between the true labels and the predicted output\n",
    "    loss = compute_loss(y_true, activations[-1])  # Loss for the current iteration\n",
    "    losses.append(loss)  # Append the computed loss to the list\n",
    "    \n",
    "    # Step 3.1: Perform backpropagation to compute gradients\n",
    "    gradients = backpropagation(network, activations, y_true)\n",
    "\n",
    "    # Step 3.2: Update the weights with a learning rate of 0.1\n",
    "    update_weights(network, gradients, learning_rate=0.1)\n",
    "\n",
    "    \n",
    "    \n",
    "# Plot Loss and rerun all cells\n",
    "plt.plot(losses)\n",
    "plt.title(\"Joshua Summers + Loss Before and After Weight Updates\")\n",
    "plt.xlabel(\"Iterations\")\n",
    "plt.ylabel(\"Loss\")\n",
    "plt.show()\n"
   ]
  },
  {
   "cell_type": "markdown",
   "id": "737f4b49-9f2b-4e5c-8f75-cb102fc858e0",
   "metadata": {},
   "source": [
    "### Step 8: Visualizing Gradients Changes (Graduate students)"
   ]
  },
  {
   "cell_type": "markdown",
   "id": "42a89b54-adeb-4a5d-89b2-1883ce9634a7",
   "metadata": {},
   "source": [
    "Please pick a weight and plot the gradient change\n",
    "\n",
    "You need to point which weight you pick and label it on your graph."
   ]
  },
  {
   "cell_type": "code",
   "execution_count": null,
   "id": "e59f30cb-09da-48e9-9551-d9055db6e26b",
   "metadata": {},
   "outputs": [],
   "source": [
    "# Your code"
   ]
  },
  {
   "cell_type": "code",
   "execution_count": null,
   "id": "57f0d830-3ed2-4d96-9a72-3cca41792c07",
   "metadata": {},
   "outputs": [],
   "source": []
  }
 ],
 "metadata": {
  "kernelspec": {
   "display_name": "Python 3 (ipykernel)",
   "language": "python",
   "name": "python3"
  },
  "language_info": {
   "codemirror_mode": {
    "name": "ipython",
    "version": 3
   },
   "file_extension": ".py",
   "mimetype": "text/x-python",
   "name": "python",
   "nbconvert_exporter": "python",
   "pygments_lexer": "ipython3",
   "version": "3.8.20"
  }
 },
 "nbformat": 4,
 "nbformat_minor": 5
}
